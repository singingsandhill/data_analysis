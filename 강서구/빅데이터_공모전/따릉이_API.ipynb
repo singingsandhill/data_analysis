{
 "cells": [
  {
   "cell_type": "markdown",
   "id": "4c2d4461",
   "metadata": {},
   "source": [
    "# 필요 library"
   ]
  },
  {
   "cell_type": "code",
   "execution_count": 1,
   "id": "7a254c8a",
   "metadata": {},
   "outputs": [],
   "source": [
    "# API 관련\n",
    "from urllib.parse import urlencode, unquote\n",
    "import requests\n",
    "import json\n",
    "\n",
    "# analysis 관련\n",
    "import math\n",
    "import numpy as np\n",
    "import pandas as pd\n",
    "\n",
    "## graph\n",
    "import matplotlib.pyplot as plt\n",
    "import seaborn as sns\n",
    "\n",
    "### 글꼴 설정\n",
    "import matplotlib.font_manager as fm\n",
    "#### 글꼴 경로 설정\n",
    "font_path = 'C:/Users/jisu0/Downloads/maruburi/TTF\\MaruBuri-Regular.ttf'\n",
    "#### 폰트 이름 가져오기\n",
    "font_name = fm.FontProperties(fname=font_path).get_name()\n",
    "\n",
    "plt.rc('font', family=font_name)"
   ]
  },
  {
   "cell_type": "markdown",
   "id": "f5627da8",
   "metadata": {},
   "source": [
    "# DATA"
   ]
  },
  {
   "cell_type": "markdown",
   "id": "67e434b6",
   "metadata": {},
   "source": [
    "## import"
   ]
  },
  {
   "cell_type": "markdown",
   "id": "99ddd39e",
   "metadata": {},
   "source": [
    "### API 불러오기 (대여 정보/ 시간별)"
   ]
  },
  {
   "cell_type": "code",
   "execution_count": 2,
   "id": "987b0caa",
   "metadata": {},
   "outputs": [
    {
     "name": "stdout",
     "output_type": "stream",
     "text": [
      "CPU times: total: 656 ms\n",
      "Wall time: 1min 56s\n"
     ]
    }
   ],
   "source": [
    "%%time\n",
    "\n",
    "# 할당받은 개인키\n",
    "my_key = '4f785242556a69733731794b4c6f57'\n",
    "\n",
    "#API 호출\n",
    "##1달간 목요일, 8-10시 사이의 이용수\n",
    "dates = [20240307,20240314,20240321,20240329] #날짜, 4일(1주일 간격)\n",
    "times = [7,8,9,10]  #(출근 시간대)\n",
    "\n",
    "## 데이터 프레임 생성\n",
    "use_0307_detail = pd.DataFrame()\n",
    "use_0314_detail = pd.DataFrame()\n",
    "use_0321_detail = pd.DataFrame()\n",
    "use_0329_detail = pd.DataFrame()\n",
    "\n",
    "## 데이터 가져오기\n",
    "for i in dates :\n",
    "    for j in times:\n",
    "        #일단 날짜, 시간 별로 몇행이 있는지 확인\n",
    "        url = f'http://openapi.seoul.go.kr:8088/{my_key}/json/tbCycleRentUseTimeInfo/1/100/{i}/{j}'\n",
    "        response = requests.get(url)\n",
    "        response_text = json.loads(response.text)\n",
    "        ## 특정날짜, 시간대의 전체 행수 파악\n",
    "        length = int(response_text[\"cycleRentUseTimeInfo\"]['list_total_count'])\n",
    "        #print(i,j,response_text[\"cycleRentUseTimeInfo\"]['list_total_count'],\n",
    "        #      len(json.loads(response.content)['cycleRentUseTimeInfo']['row']))\n",
    "        \n",
    "        ## 모든 행 가져오기\n",
    "        ### 1000건이 1회 호출 최대값이라 끊어서 가져오기\n",
    "        for k in range(1,length//1000+2):\n",
    "            url_re = f'http://openapi.seoul.go.kr:8088/{my_key}/json/tbCycleRentUseTimeInfo/{(k-1)*1000+1}/{k*1000}/{i}/{j}'\n",
    "            response_re = requests.get(url_re)\n",
    "            response_text_re = json.loads(response_re.text)\n",
    "            # 날짜별 분류\n",
    "            if i == 20240307 :\n",
    "                use_0307_detail = pd.concat([use_0307_detail,pd.DataFrame(response_text_re['cycleRentUseTimeInfo']['row'])])\n",
    "            elif i == 20240314 :\n",
    "                use_0314_detail = pd.concat([use_0314_detail,pd.DataFrame(response_text_re['cycleRentUseTimeInfo']['row'])])\n",
    "            elif i == 20240321 :\n",
    "                use_0321_detail = pd.concat([use_0321_detail,pd.DataFrame(response_text_re['cycleRentUseTimeInfo']['row'])])\n",
    "            else :\n",
    "                use_0329_detail = pd.concat([use_0329_detail,pd.DataFrame(response_text_re['cycleRentUseTimeInfo']['row'])])\n",
    "\n",
    "                # 데이터 합치기 ## 혹시모를 상황에 대비, 일단 일별 구분\n",
    "nomal_detail = pd.concat([use_0307_detail,use_0314_detail,use_0321_detail,use_0329_detail])"
   ]
  },
  {
   "cell_type": "code",
   "execution_count": 3,
   "id": "cce202be",
   "metadata": {},
   "outputs": [
    {
     "name": "stdout",
     "output_type": "stream",
     "text": [
      "CPU times: total: 391 ms\n",
      "Wall time: 42.8 s\n"
     ]
    }
   ],
   "source": [
    "%%time\n",
    "\n",
    "# 할당받은 개인키\n",
    "my_key = '4f785242556a69733731794b4c6f57'\n",
    "\n",
    "#API 호출\n",
    "##1달간 목요일, 8-10시 사이의 이용수\n",
    "dates = [20240122,20240219,20240221,20240222,20240312,20240326,20240328] #날짜, 비 온 평일\n",
    "times = [7,8,9,10]  #(출근 시간대)\n",
    "\n",
    "## 데이터 프레임 생성\n",
    "use_0122_detail = pd.DataFrame()\n",
    "use_0219_detail = pd.DataFrame()\n",
    "use_0221_detail = pd.DataFrame()\n",
    "use_0222_detail = pd.DataFrame()\n",
    "use_0312_detail = pd.DataFrame()\n",
    "use_0326_detail = pd.DataFrame()\n",
    "use_0328_detail = pd.DataFrame()\n",
    "\n",
    "## 데이터 가져오기\n",
    "for i in dates :\n",
    "    for j in times:\n",
    "        #일단 날짜, 시간 별로 몇행이 있는지 확인\n",
    "        url = f'http://openapi.seoul.go.kr:8088/{my_key}/json/tbCycleRentUseTimeInfo/1/100/{i}/{j}'\n",
    "        response = requests.get(url)\n",
    "        response_text = json.loads(response.text)\n",
    "        ## 특정날짜, 시간대의 전체 행수 파악\n",
    "        length = int(response_text[\"cycleRentUseTimeInfo\"]['list_total_count'])\n",
    "        #print(i,j,response_text[\"cycleRentUseTimeInfo\"]['list_total_count'],\n",
    "        #      len(json.loads(response.content)['cycleRentUseTimeInfo']['row']))\n",
    "        \n",
    "        ## 모든 행 가져오기\n",
    "        ### 1000건이 1회 호출 최대값이라 끊어서 가져오기\n",
    "        for k in range(1,length//1000+2):\n",
    "            url_re = f'http://openapi.seoul.go.kr:8088/{my_key}/json/tbCycleRentUseTimeInfo/{(k-1)*1000+1}/{k*1000}/{i}/{j}'\n",
    "            response_re = requests.get(url_re)\n",
    "            response_text_re = json.loads(response_re.text)\n",
    "            # 날짜별 분류\n",
    "            if i == 20240219 :\n",
    "                use_0219_detail = pd.concat([use_0219_detail,pd.DataFrame(response_text_re['cycleRentUseTimeInfo']['row'])])\n",
    "            elif i == 20240122 :\n",
    "                use_0122_detail = pd.concat([use_0122_detail,pd.DataFrame(response_text_re['cycleRentUseTimeInfo']['row'])])\n",
    "            elif i == 20240221 :\n",
    "                use_0221_detail = pd.concat([use_0221_detail,pd.DataFrame(response_text_re['cycleRentUseTimeInfo']['row'])])\n",
    "            elif i == 20240222 :\n",
    "                use_0222_detail = pd.concat([use_0222_detail,pd.DataFrame(response_text_re['cycleRentUseTimeInfo']['row'])])\n",
    "            elif i == 20240312 :\n",
    "                use_0312_detail = pd.concat([use_0312_detail,pd.DataFrame(response_text_re['cycleRentUseTimeInfo']['row'])])\n",
    "            elif i == 20240326 :\n",
    "                use_0326_detail = pd.concat([use_0326_detail,pd.DataFrame(response_text_re['cycleRentUseTimeInfo']['row'])])\n",
    "            else :\n",
    "                use_0328_detail = pd.concat([use_0328_detail,pd.DataFrame(response_text_re['cycleRentUseTimeInfo']['row'])])\n",
    "\n",
    "                # 데이터 합치기 ## 혹시모를 상황에 대비, 일단 일별 구분\n",
    "rain_detail = pd.concat([use_0122_detail,use_0219_detail,use_0222_detail,use_0312_detail])\n",
    "                         #use_0221_detail,,use_0326_detail])"
   ]
  },
  {
   "cell_type": "raw",
   "id": "d058bd8d",
   "metadata": {},
   "source": [
    "rain_little_detail = pd.concat([use_0122_detail,use_0219_detail,use_0222_detail,use_0312_detail,use_0328_detail])"
   ]
  },
  {
   "cell_type": "code",
   "execution_count": 4,
   "id": "caef7f8d",
   "metadata": {},
   "outputs": [
    {
     "name": "stdout",
     "output_type": "stream",
     "text": [
      "use_0122_detail 11112\n",
      "use_0219_detail 7244\n",
      "use_0222_detail 3923\n",
      "use_0312_detail 10463\n",
      "\n",
      "use_0328_detail 15168\n",
      "\n",
      "use_0307_detail 25128\n",
      "use_0314_detail 26973\n",
      "use_0321_detail 27066\n",
      "use_0329_detail 18937\n"
     ]
    }
   ],
   "source": [
    "# 비 온 날\n",
    "print('use_0122_detail',len(use_0122_detail))\n",
    "print('use_0219_detail',len(use_0219_detail))\n",
    "#print('use_0221_detail',len(use_0221_detail)) ## 비 많이 온 날\n",
    "print('use_0222_detail',len(use_0222_detail))\n",
    "print('use_0312_detail',len(use_0312_detail))\n",
    "#print('use_0326_detail',len(use_0326_detail)) ## 비 많이 온 날\n",
    "print('')\n",
    "\n",
    "#파업일\n",
    "print('use_0328_detail',len(use_0328_detail))\n",
    "print('')\n",
    "\n",
    "# 비 안온 날\n",
    "print('use_0307_detail',len(use_0307_detail))\n",
    "print('use_0314_detail',len(use_0314_detail))\n",
    "print('use_0321_detail',len(use_0321_detail))\n",
    "print('use_0329_detail',len(use_0329_detail))"
   ]
  },
  {
   "cell_type": "markdown",
   "id": "3139e229",
   "metadata": {},
   "source": [
    "### 대여소 정보"
   ]
  },
  {
   "cell_type": "code",
   "execution_count": 5,
   "id": "2b0de98f",
   "metadata": {},
   "outputs": [],
   "source": [
    "rent_spot_info = pd.read_csv('C:\\\\Users\\\\jisu0\\\\Downloads\\\\공공자전거 대여소 정보(23.12월 기준)_수정.csv')\n",
    "rent_spot_info_gangseo = rent_spot_info[rent_spot_info['자치구']==\"강서구\"]"
   ]
  },
  {
   "cell_type": "markdown",
   "id": "57731f86",
   "metadata": {},
   "source": [
    "### 강우량(2024)"
   ]
  },
  {
   "cell_type": "code",
   "execution_count": 6,
   "id": "19f11e0e",
   "metadata": {},
   "outputs": [],
   "source": [
    "rain = pd.read_csv('C:\\\\Users\\\\jisu0\\\\바탕 화면\\\\공모전\\\\강서구_빅데이터\\\\2024_강우량.csv',encoding='cp949')"
   ]
  },
  {
   "cell_type": "code",
   "execution_count": 7,
   "id": "b39246e1",
   "metadata": {},
   "outputs": [
    {
     "data": {
      "text/html": [
       "<div>\n",
       "<style scoped>\n",
       "    .dataframe tbody tr th:only-of-type {\n",
       "        vertical-align: middle;\n",
       "    }\n",
       "\n",
       "    .dataframe tbody tr th {\n",
       "        vertical-align: top;\n",
       "    }\n",
       "\n",
       "    .dataframe thead th {\n",
       "        text-align: right;\n",
       "    }\n",
       "</style>\n",
       "<table border=\"1\" class=\"dataframe\">\n",
       "  <thead>\n",
       "    <tr style=\"text-align: right;\">\n",
       "      <th></th>\n",
       "      <th>지점</th>\n",
       "      <th>지점명</th>\n",
       "      <th>일시</th>\n",
       "      <th>년</th>\n",
       "      <th>월</th>\n",
       "      <th>일</th>\n",
       "      <th>시간</th>\n",
       "      <th>강수량(mm)</th>\n",
       "      <th>요일</th>\n",
       "      <th>날짜</th>\n",
       "    </tr>\n",
       "  </thead>\n",
       "  <tbody>\n",
       "  </tbody>\n",
       "</table>\n",
       "</div>"
      ],
      "text/plain": [
       "Empty DataFrame\n",
       "Columns: [지점, 지점명, 일시, 년, 월, 일, 시간, 강수량(mm), 요일, 날짜]\n",
       "Index: []"
      ]
     },
     "execution_count": 7,
     "metadata": {},
     "output_type": "execute_result"
    }
   ],
   "source": [
    "rain[rain['날짜'].isin(['2024-03-29'])]"
   ]
  },
  {
   "cell_type": "code",
   "execution_count": 18,
   "id": "4ab22e9b",
   "metadata": {},
   "outputs": [],
   "source": [
    "rain_filter = rain[(rain['강수량(mm)'] != 0 )& (rain['시간'] < 10 )& (rain['시간'] >3 )& (rain['일'] != 26)& (rain['날짜'] != '2024-02-21') ]\n",
    "#3월 26일은 비가 많이 옴"
   ]
  },
  {
   "cell_type": "code",
   "execution_count": 19,
   "id": "568f458b",
   "metadata": {},
   "outputs": [],
   "source": [
    "rain_filter = rain_filter[rain_filter['날짜'].isin(['2024-01-22','2024-02-19','2024-02-22','2024-03-12','2024-03-28'])]\n",
    "rain_filter = rain_filter[~((rain_filter['날짜']== '2024-02-22')&(rain_filter['시간'] ==6))]"
   ]
  },
  {
   "cell_type": "markdown",
   "id": "d34cc84c",
   "metadata": {},
   "source": [
    "## 전처리"
   ]
  },
  {
   "cell_type": "code",
   "execution_count": 10,
   "id": "36c99cbb",
   "metadata": {},
   "outputs": [],
   "source": [
    "rent_spot_info_gangseo_list = rent_spot_info_gangseo['대여소\\n번호']"
   ]
  },
  {
   "cell_type": "code",
   "execution_count": 11,
   "id": "6c30dfd8",
   "metadata": {},
   "outputs": [],
   "source": [
    "# 형변환\n",
    "rain_detail = rain_detail.astype({'RENT_ID':'int'})\n",
    "use_0328_detail = use_0328_detail.astype({'RENT_ID':'int'})\n",
    "nomal_detail = nomal_detail.astype({'RENT_ID':'int'})"
   ]
  },
  {
   "cell_type": "code",
   "execution_count": 12,
   "id": "778b6594",
   "metadata": {},
   "outputs": [],
   "source": [
    "gangseo_detail_rain = rain_detail[rain_detail['RENT_ID'].isin(rent_spot_info_gangseo_list)]\n",
    "gangseo_detail_nomal = nomal_detail[nomal_detail['RENT_ID'].isin(rent_spot_info_gangseo_list)]\n",
    "gangseo_detail_0328 = use_0328_detail[use_0328_detail['RENT_ID'].isin(rent_spot_info_gangseo_list)]"
   ]
  },
  {
   "cell_type": "code",
   "execution_count": 13,
   "id": "fe18b8f9",
   "metadata": {},
   "outputs": [
    {
     "data": {
      "text/html": [
       "<div>\n",
       "<style scoped>\n",
       "    .dataframe tbody tr th:only-of-type {\n",
       "        vertical-align: middle;\n",
       "    }\n",
       "\n",
       "    .dataframe tbody tr th {\n",
       "        vertical-align: top;\n",
       "    }\n",
       "\n",
       "    .dataframe thead th {\n",
       "        text-align: right;\n",
       "    }\n",
       "</style>\n",
       "<table border=\"1\" class=\"dataframe\">\n",
       "  <thead>\n",
       "    <tr style=\"text-align: right;\">\n",
       "      <th></th>\n",
       "      <th>RENT_DT</th>\n",
       "      <th>RENT_HR</th>\n",
       "      <th>RENT_ID</th>\n",
       "      <th>RENT_NM</th>\n",
       "      <th>RENT_TYPE</th>\n",
       "      <th>GENDER_CD</th>\n",
       "      <th>AGE_TYPE</th>\n",
       "      <th>USE_CNT</th>\n",
       "      <th>EXER_AMT</th>\n",
       "      <th>CARBON_AMT</th>\n",
       "      <th>MOVE_METER</th>\n",
       "      <th>MOVE_TIME</th>\n",
       "      <th>START_INDEX</th>\n",
       "      <th>END_INDEX</th>\n",
       "      <th>RNUM</th>\n",
       "    </tr>\n",
       "  </thead>\n",
       "  <tbody>\n",
       "    <tr>\n",
       "      <th>0</th>\n",
       "      <td>2024-01-22</td>\n",
       "      <td>7</td>\n",
       "      <td>2701</td>\n",
       "      <td>2701. 마곡나루역 5번출구 뒤편</td>\n",
       "      <td>정기권</td>\n",
       "      <td></td>\n",
       "      <td>~10대</td>\n",
       "      <td>1</td>\n",
       "      <td>18.03</td>\n",
       "      <td>0.18</td>\n",
       "      <td>758.88</td>\n",
       "      <td>5</td>\n",
       "      <td>0</td>\n",
       "      <td>0</td>\n",
       "      <td>1</td>\n",
       "    </tr>\n",
       "    <tr>\n",
       "      <th>2</th>\n",
       "      <td>2024-01-22</td>\n",
       "      <td>7</td>\n",
       "      <td>3774</td>\n",
       "      <td>3774. 마곡9단지 910동 상가앞</td>\n",
       "      <td>정기권</td>\n",
       "      <td></td>\n",
       "      <td>~10대</td>\n",
       "      <td>1</td>\n",
       "      <td>30.00</td>\n",
       "      <td>0.29</td>\n",
       "      <td>1262.69</td>\n",
       "      <td>6</td>\n",
       "      <td>0</td>\n",
       "      <td>0</td>\n",
       "      <td>3</td>\n",
       "    </tr>\n",
       "    <tr>\n",
       "      <th>4</th>\n",
       "      <td>2024-01-22</td>\n",
       "      <td>7</td>\n",
       "      <td>1150</td>\n",
       "      <td>1150. 송정역 1번출구</td>\n",
       "      <td>정기권</td>\n",
       "      <td></td>\n",
       "      <td>20대</td>\n",
       "      <td>1</td>\n",
       "      <td>45.07</td>\n",
       "      <td>0.42</td>\n",
       "      <td>1806.68</td>\n",
       "      <td>9</td>\n",
       "      <td>0</td>\n",
       "      <td>0</td>\n",
       "      <td>5</td>\n",
       "    </tr>\n",
       "    <tr>\n",
       "      <th>5</th>\n",
       "      <td>2024-01-22</td>\n",
       "      <td>7</td>\n",
       "      <td>1153</td>\n",
       "      <td>1153. 발산역 1번, 9번 인근 대여소</td>\n",
       "      <td>정기권</td>\n",
       "      <td></td>\n",
       "      <td>20대</td>\n",
       "      <td>1</td>\n",
       "      <td>34.86</td>\n",
       "      <td>0.25</td>\n",
       "      <td>1073.59</td>\n",
       "      <td>4</td>\n",
       "      <td>0</td>\n",
       "      <td>0</td>\n",
       "      <td>6</td>\n",
       "    </tr>\n",
       "    <tr>\n",
       "      <th>6</th>\n",
       "      <td>2024-01-22</td>\n",
       "      <td>7</td>\n",
       "      <td>1155</td>\n",
       "      <td>1155. 기쁜우리복지관</td>\n",
       "      <td>정기권</td>\n",
       "      <td></td>\n",
       "      <td>20대</td>\n",
       "      <td>1</td>\n",
       "      <td>28.51</td>\n",
       "      <td>0.22</td>\n",
       "      <td>960.00</td>\n",
       "      <td>4</td>\n",
       "      <td>0</td>\n",
       "      <td>0</td>\n",
       "      <td>7</td>\n",
       "    </tr>\n",
       "  </tbody>\n",
       "</table>\n",
       "</div>"
      ],
      "text/plain": [
       "      RENT_DT RENT_HR  RENT_ID                  RENT_NM RENT_TYPE GENDER_CD  \\\n",
       "0  2024-01-22       7     2701      2701. 마곡나루역 5번출구 뒤편       정기권             \n",
       "2  2024-01-22       7     3774     3774. 마곡9단지 910동 상가앞       정기권             \n",
       "4  2024-01-22       7     1150           1150. 송정역 1번출구       정기권             \n",
       "5  2024-01-22       7     1153  1153. 발산역 1번, 9번 인근 대여소       정기권             \n",
       "6  2024-01-22       7     1155            1155. 기쁜우리복지관       정기권             \n",
       "\n",
       "  AGE_TYPE USE_CNT EXER_AMT CARBON_AMT MOVE_METER MOVE_TIME  START_INDEX  \\\n",
       "0     ~10대       1    18.03       0.18     758.88         5            0   \n",
       "2     ~10대       1    30.00       0.29    1262.69         6            0   \n",
       "4      20대       1    45.07       0.42    1806.68         9            0   \n",
       "5      20대       1    34.86       0.25    1073.59         4            0   \n",
       "6      20대       1    28.51       0.22     960.00         4            0   \n",
       "\n",
       "   END_INDEX RNUM  \n",
       "0          0    1  \n",
       "2          0    3  \n",
       "4          0    5  \n",
       "5          0    6  \n",
       "6          0    7  "
      ]
     },
     "execution_count": 13,
     "metadata": {},
     "output_type": "execute_result"
    }
   ],
   "source": [
    "gangseo_detail_rain.head()"
   ]
  },
  {
   "cell_type": "code",
   "execution_count": 14,
   "id": "3461d24a",
   "metadata": {},
   "outputs": [
    {
     "data": {
      "text/plain": [
       "array(['2024-01-22', '2024-02-19', '2024-02-22', '2024-03-12'],\n",
       "      dtype=object)"
      ]
     },
     "execution_count": 14,
     "metadata": {},
     "output_type": "execute_result"
    }
   ],
   "source": [
    "gangseo_detail_rain['RENT_DT'].unique()"
   ]
  },
  {
   "cell_type": "markdown",
   "id": "374751be",
   "metadata": {},
   "source": [
    "# 시각화"
   ]
  },
  {
   "cell_type": "code",
   "execution_count": 20,
   "id": "902f240e",
   "metadata": {},
   "outputs": [
    {
     "data": {
      "image/png": "[encoded data removed]",
      "text/plain": [
       "<Figure size 640x480 with 1 Axes>"
      ]
     },
     "metadata": {},
     "output_type": "display_data"
    }
   ],
   "source": [
    "plt.bar(rain_filter['일시'],rain_filter['강수량(mm)'])\n",
    "plt.xticks(rotation = 90)\n",
    "\n",
    "plt.show()"
   ]
  },
  {
   "cell_type": "markdown",
   "id": "007bde97",
   "metadata": {},
   "source": [
    "## 날짜별 시간대 대여량 파악"
   ]
  },
  {
   "cell_type": "code",
   "execution_count": 21,
   "id": "b7acc4e6",
   "metadata": {},
   "outputs": [
    {
     "data": {
      "image/png": "[encoded data removed]",
      "text/plain": [
       "<Figure size 1200x800 with 1 Axes>"
      ]
     },
     "metadata": {},
     "output_type": "display_data"
    }
   ],
   "source": [
    "# 'RENT_DT'와 'RENT_HR'로 그룹화하고 각 그룹의 크기 계산\n",
    "grouped = pd.concat([gangseo_detail_rain,gangseo_detail_0328]).groupby(['RENT_DT', 'RENT_HR']).size().reset_index(name='n')\n",
    "\n",
    "# 'RENT_DT'와 'RENT_HR'를 멀티인덱스로 하는 피벗 테이블 생성 ## 그룹화된 그래프를 위해\n",
    "pivot_table = grouped.pivot(index=\"RENT_HR\", columns=\"RENT_DT\", values=\"n\").fillna(0)\n",
    "\n",
    "# 막대 그래프 그리기\n",
    "pivot_table.plot(kind='bar', figsize=(12, 8))\n",
    "\n",
    "plt.title(\"날짜 및 시간대별 대여량\")\n",
    "plt.xlabel(\"시간대\")\n",
    "plt.ylabel(\"대여량\")\n",
    "plt.xticks(rotation=0)  # X축 레이블 회전 설정\n",
    "plt.legend(title='날짜')\n",
    "plt.tight_layout()  # 플롯의 레이아웃 자동 조정\n",
    "\n",
    "plt.show()"
   ]
  },
  {
   "cell_type": "markdown",
   "id": "73c6e77d",
   "metadata": {},
   "source": [
    "비온 날들 끼리 비교해 봤을 때 버스 파업이 있던 28일이 따릉이 이용 빈도가 높은 편이다."
   ]
  },
  {
   "cell_type": "code",
   "execution_count": null,
   "id": "d2090e01",
   "metadata": {},
   "outputs": [],
   "source": [
    "pivot_table"
   ]
  },
  {
   "cell_type": "code",
   "execution_count": null,
   "id": "ec37f7b9",
   "metadata": {},
   "outputs": [],
   "source": [
    "# 'RENT_DT'와 'RENT_HR'로 그룹화하고 각 그룹의 크기 계산\n",
    "grouped = pd.concat([nomal_detail,use_0328_detail]).groupby(['RENT_DT', 'RENT_HR']).size().reset_index(name='n')\n",
    "\n",
    "# 'RENT_DT'와 'RENT_HR'를 멀티인덱스로 하는 피벗 테이블 생성 ## 그룹화된 그래프를 위해\n",
    "pivot_table = grouped.pivot(index=\"RENT_HR\", columns=\"RENT_DT\", values=\"n\").fillna(0)\n",
    "\n",
    "# 막대 그래프 그리기\n",
    "pivot_table.plot(kind='bar', figsize=(12, 8))\n",
    "\n",
    "plt.title(\"날짜 및 시간대별 대여량\")\n",
    "plt.xlabel(\"시간대\")\n",
    "plt.ylabel(\"대여량\")\n",
    "plt.xticks(rotation=0)  # X축 레이블 회전 설정\n",
    "plt.legend(title='날짜')\n",
    "plt.tight_layout()  # 플롯의 레이아웃 자동 조정\n",
    "\n",
    "plt.show()"
   ]
  },
  {
   "cell_type": "markdown",
   "id": "809a011c",
   "metadata": {},
   "source": [
    "# "
   ]
  },
  {
   "cell_type": "code",
   "execution_count": null,
   "id": "45c4bf32",
   "metadata": {},
   "outputs": [],
   "source": [
    "nm_n = pd.merge(gangseo_detail_0328.groupby(['RENT_NM','RENT_HR']).size().reset_index(name='n').sort_values('n', ascending=False).rename(columns={'n':'D_day'}),\n",
    "         pd.merge(gangseo_detail_rain.groupby(['RENT_NM','RENT_HR']).size().reset_index(name='n').sort_values('n', ascending=False).rename(columns={'n':'rain'}),\n",
    "                  gangseo_detail_nomal.groupby(['RENT_NM','RENT_HR']).size().reset_index(name='n').sort_values('n', ascending=False).rename(columns={'n':'normal'}),\n",
    "                  on=('RENT_NM','RENT_HR')),\n",
    "         on=('RENT_NM','RENT_HR'))\n",
    "nm_n['rain'] = nm_n['rain']/4\n",
    "nm_n['normal'] = nm_n['normal']/4\n",
    "nm_n.query('(D_day > 1)&(rain>1)&(normal>1)&(D_day > rain)')"
   ]
  },
  {
   "cell_type": "code",
   "execution_count": null,
   "id": "0276d225",
   "metadata": {
    "scrolled": true
   },
   "outputs": [],
   "source": [
    "gangseo_detail_rain.groupby(['RENT_DT', 'RENT_HR','RENT_NM']).size().reset_index(name='n').sort_values('n', ascending=False).head(40)"
   ]
  },
  {
   "cell_type": "code",
   "execution_count": null,
   "id": "2889841a",
   "metadata": {
    "scrolled": true
   },
   "outputs": [],
   "source": [
    "gangseo_detail_nomal.groupby(['RENT_DT', 'RENT_HR','RENT_NM']).size().reset_index(name='n').sort_values('n', ascending=False).head(40)"
   ]
  },
  {
   "cell_type": "code",
   "execution_count": null,
   "id": "021681fa",
   "metadata": {
    "scrolled": true
   },
   "outputs": [],
   "source": [
    "gangseo_detail_0328.groupby(['RENT_DT', 'RENT_HR','RENT_NM']).size().reset_index(name='n').sort_values('n', ascending=False).head(40)"
   ]
  },
  {
   "cell_type": "code",
   "execution_count": null,
   "id": "41e1201e",
   "metadata": {},
   "outputs": [],
   "source": [
    "import folium\n",
    "\n",
    "# Create a map centered around Pyongyang, North Korea\n",
    "m = folium.Map(location=[37.57, 126.84], zoom_start=13, width=800, height=500)\n",
    "\n",
    "# Add different tile layers with attribution\n",
    "folium.TileLayer(\"Stamen Terrain\", attr=\"Stamen Terrain\").add_to(m)\n",
    "folium.TileLayer(\"Stamen Toner\", attr=\"Stamen Toner\").add_to(m)\n",
    "folium.TileLayer(\"Stamen Watercolor\", attr=\"Stamen Watercolor\").add_to(m)\n",
    "\n",
    "# Add layer control to switch between tile layers\n",
    "folium.LayerControl().add_to(m)\n",
    "\n",
    "# Display the map\n",
    "m"
   ]
  },
  {
   "cell_type": "code",
   "execution_count": null,
   "id": "42098db2",
   "metadata": {},
   "outputs": [],
   "source": [
    "# Circle\n",
    "\n",
    "for i in \n",
    "folium.Circle(\n",
    "    location=[37.54455152583346, 127.05564949938811],\n",
    "    radius=100, # 원 크기\n",
    "    color='#eb9e34', # 원 선 색상\n",
    "    fill_color='red', # 원 내부 색상\n",
    "    popup='Circle popup',\n",
    "    tooltip='Circle tooltip'\n",
    ").add_to(m)"
   ]
  },
  {
   "cell_type": "code",
   "execution_count": null,
   "id": "8bd2a4ef",
   "metadata": {},
   "outputs": [],
   "source": [
    "rent_spot_info_gangseo.head(5)"
   ]
  },
  {
   "cell_type": "code",
   "execution_count": null,
   "id": "127011c7",
   "metadata": {},
   "outputs": [],
   "source": []
  },
  {
   "cell_type": "code",
   "execution_count": null,
   "id": "57d136eb",
   "metadata": {},
   "outputs": [],
   "source": []
  }
 ],
 "metadata": {
  "kernelspec": {
   "display_name": "Python 3 (ipykernel)",
   "language": "python",
   "name": "python3"
  },
  "language_info": {
   "codemirror_mode": {
    "name": "ipython",
    "version": 3
   },
   "file_extension": ".py",
   "mimetype": "text/x-python",
   "name": "python",
   "nbconvert_exporter": "python",
   "pygments_lexer": "ipython3",
   "version": "3.11.5"
  },
  "toc": {
   "base_numbering": 1,
   "nav_menu": {},
   "number_sections": true,
   "sideBar": true,
   "skip_h1_title": false,
   "title_cell": "Table of Contents",
   "title_sidebar": "Contents",
   "toc_cell": false,
   "toc_position": {},
   "toc_section_display": true,
   "toc_window_display": false
  }
 },
 "nbformat": 4,
 "nbformat_minor": 5
}
