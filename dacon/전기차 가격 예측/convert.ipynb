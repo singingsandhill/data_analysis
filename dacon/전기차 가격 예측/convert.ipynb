{
 "cells": [
  {
   "cell_type": "code",
   "execution_count": 1,
   "id": "374a8df5-f4eb-430f-b89d-ef9c1d0fa94c",
   "metadata": {},
   "outputs": [
    {
     "name": "stdout",
     "output_type": "stream",
     "text": [
      "Notebook이 EDA.py로 변환되었습니다.\n"
     ]
    }
   ],
   "source": [
    "import nbformat\n",
    "from nbconvert import PythonExporter\n",
    "\n",
    "# 파일 경로 설정\n",
    "input_path = 'EDA.ipynb'\n",
    "output_path = 'EDA.py'\n",
    "\n",
    "# Notebook 파일 로드\n",
    "with open(input_path, 'r', encoding='utf-8') as f:\n",
    "    notebook = nbformat.read(f, as_version=4)\n",
    "\n",
    "# Python 스크립트로 변환\n",
    "exporter = PythonExporter()\n",
    "source, _ = exporter.from_notebook_node(notebook)\n",
    "\n",
    "# Python 파일 저장\n",
    "with open(output_path, 'w', encoding='utf-8') as f:\n",
    "    f.write(source)\n",
    "\n",
    "print(f\"Notebook이 {output_path}로 변환되었습니다.\")\n"
   ]
  },
  {
   "cell_type": "code",
   "execution_count": null,
   "id": "0d4c86d3-fa97-4685-95a6-84f43087e85b",
   "metadata": {},
   "outputs": [],
   "source": []
  }
 ],
 "metadata": {
  "kernelspec": {
   "display_name": "Python 3 (ipykernel)",
   "language": "python",
   "name": "python3"
  },
  "language_info": {
   "codemirror_mode": {
    "name": "ipython",
    "version": 3
   },
   "file_extension": ".py",
   "mimetype": "text/x-python",
   "name": "python",
   "nbconvert_exporter": "python",
   "pygments_lexer": "ipython3",
   "version": "3.11.5"
  }
 },
 "nbformat": 4,
 "nbformat_minor": 5
}
